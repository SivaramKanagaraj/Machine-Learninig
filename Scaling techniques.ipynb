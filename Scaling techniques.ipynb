{
 "cells": [
  {
   "cell_type": "code",
   "execution_count": 1,
   "metadata": {
    "collapsed": true
   },
   "outputs": [],
   "source": [
    "import pandas as pd\n",
    "import numpy as np\n",
    "from sklearn.preprocessing import MinMaxScaler"
   ]
  },
  {
   "cell_type": "code",
   "execution_count": 5,
   "metadata": {},
   "outputs": [],
   "source": [
    "url = \"https://raw.githubusercontent.com/jbrownlee/Datasets/master/pima-indians-diabetes.data.csv\"\n",
    "names = ['preg', 'plas', 'pres', 'skin', 'test', 'mass', 'pedi', 'age', 'class']\n",
    "data = pd.read_csv(url, names = names)\n",
    "array = data.values # converting dataset into array"
   ]
  },
  {
   "cell_type": "code",
   "execution_count": 24,
   "metadata": {},
   "outputs": [],
   "source": [
    "x = array[:,0:8] #separating independant and dependant variable\n",
    "y = array[:,8]"
   ]
  },
  {
   "cell_type": "code",
   "execution_count": 27,
   "metadata": {},
   "outputs": [],
   "source": [
    "sc = MinMaxScaler() # Scaling the data on basis of Normalisation\n",
    "sc_x = sc.fit_transform(x)"
   ]
  },
  {
   "cell_type": "code",
   "execution_count": 34,
   "metadata": {},
   "outputs": [
    {
     "name": "stdout",
     "output_type": "stream",
     "text": [
      "[[ 0.35  0.74  0.59  0.35  0.    0.5   0.23  0.48]\n",
      " [ 0.06  0.43  0.54  0.29  0.    0.4   0.12  0.17]\n",
      " [ 0.47  0.92  0.52  0.    0.    0.35  0.25  0.18]\n",
      " [ 0.06  0.45  0.54  0.23  0.11  0.42  0.04  0.  ]\n",
      " [ 0.    0.69  0.33  0.35  0.2   0.64  0.94  0.2 ]]\n"
     ]
    }
   ],
   "source": [
    "np.set_printoptions(precision=2)# keeping decimal values till 2 places\n",
    "print(sc_x[0:5])"
   ]
  },
  {
   "cell_type": "code",
   "execution_count": 38,
   "metadata": {},
   "outputs": [
    {
     "data": {
      "text/plain": [
       "array([[ 0.64,  0.85,  0.15,  0.91, -0.69,  0.2 ,  0.47,  1.43],\n",
       "       [-0.84, -1.12, -0.16,  0.53, -0.69, -0.68, -0.37, -0.19],\n",
       "       [ 1.23,  1.94, -0.26, -1.29, -0.69, -1.1 ,  0.6 , -0.11],\n",
       "       [-0.84, -1.  , -0.16,  0.15,  0.12, -0.49, -0.92, -1.04],\n",
       "       [-1.14,  0.5 , -1.5 ,  0.91,  0.77,  1.41,  5.48, -0.02]])"
      ]
     },
     "execution_count": 38,
     "metadata": {},
     "output_type": "execute_result"
    }
   ],
   "source": [
    "from sklearn.preprocessing import StandardScaler # Standardization i.e Z score with mean = 0 and sd =1\n",
    "ss = StandardScaler()\n",
    "ss_x = ss.fit_transform(x)\n",
    "ss_x[0:5]\n"
   ]
  },
  {
   "cell_type": "code",
   "execution_count": 47,
   "metadata": {},
   "outputs": [
    {
     "data": {
      "text/plain": [
       "array([[ 0.03,  0.83,  0.4 ,  0.2 ,  0.  ,  0.19,  0.  ,  0.28],\n",
       "       [ 0.01,  0.72,  0.56,  0.24,  0.  ,  0.22,  0.  ,  0.26],\n",
       "       [ 0.04,  0.92,  0.32,  0.  ,  0.  ,  0.12,  0.  ,  0.16],\n",
       "       [ 0.01,  0.59,  0.44,  0.15,  0.62,  0.19,  0.  ,  0.14],\n",
       "       [ 0.  ,  0.6 ,  0.17,  0.15,  0.73,  0.19,  0.01,  0.14]])"
      ]
     },
     "execution_count": 47,
     "metadata": {},
     "output_type": "execute_result"
    }
   ],
   "source": [
    "# can be used in KNN algorithm\n",
    "from sklearn.preprocessing import Normalizer #This preprocessing can be useful for sparse datasets (lots of zeros)\n",
    "n = Normalizer()\n",
    "n_x = n.fit_transform(x)\n",
    "n_x[0:5]"
   ]
  },
  {
   "cell_type": "code",
   "execution_count": 43,
   "metadata": {},
   "outputs": [
    {
     "data": {
      "text/plain": [
       "array([[ 1.,  1.,  1., ...,  1.,  1.,  1.],\n",
       "       [ 1.,  1.,  1., ...,  1.,  0.,  1.],\n",
       "       [ 1.,  1.,  1., ...,  1.,  1.,  1.],\n",
       "       ..., \n",
       "       [ 1.,  1.,  1., ...,  1.,  0.,  1.],\n",
       "       [ 1.,  1.,  1., ...,  1.,  0.,  1.],\n",
       "       [ 1.,  1.,  1., ...,  1.,  0.,  1.]])"
      ]
     },
     "execution_count": 43,
     "metadata": {},
     "output_type": "execute_result"
    }
   ],
   "source": [
    "#All values above the threshold are marked 1 and all equal to or below are marked as 0.\n",
    "\n",
    "from sklearn.preprocessing import Binarizer\n",
    "b = Binarizer(threshold = 0.5)\n",
    "b_x = b.fit_transform(x)\n",
    "b_x"
   ]
  },
  {
   "cell_type": "code",
   "execution_count": null,
   "metadata": {
    "collapsed": true
   },
   "outputs": [],
   "source": []
  },
  {
   "cell_type": "code",
   "execution_count": null,
   "metadata": {
    "collapsed": true
   },
   "outputs": [],
   "source": []
  },
  {
   "cell_type": "code",
   "execution_count": null,
   "metadata": {
    "collapsed": true
   },
   "outputs": [],
   "source": []
  },
  {
   "cell_type": "code",
   "execution_count": null,
   "metadata": {
    "collapsed": true
   },
   "outputs": [],
   "source": []
  },
  {
   "cell_type": "code",
   "execution_count": null,
   "metadata": {
    "collapsed": true
   },
   "outputs": [],
   "source": []
  },
  {
   "cell_type": "code",
   "execution_count": null,
   "metadata": {
    "collapsed": true
   },
   "outputs": [],
   "source": []
  }
 ],
 "metadata": {
  "kernelspec": {
   "display_name": "Python 3",
   "language": "python",
   "name": "python3"
  },
  "language_info": {
   "codemirror_mode": {
    "name": "ipython",
    "version": 3
   },
   "file_extension": ".py",
   "mimetype": "text/x-python",
   "name": "python",
   "nbconvert_exporter": "python",
   "pygments_lexer": "ipython3",
   "version": "3.6.3"
  }
 },
 "nbformat": 4,
 "nbformat_minor": 2
}
