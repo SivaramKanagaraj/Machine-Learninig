{
 "cells": [
  {
   "cell_type": "code",
   "execution_count": null,
   "metadata": {
    "_cell_guid": "c4d04370-f269-45df-8738-f7486d4575a1",
    "_uuid": "36fa15b81cd83b50f463b8031777933e52c3361d",
    "collapsed": true
   },
   "outputs": [],
   "source": [
    "# This Python 3 environment comes with many helpful analytics libraries installed\n",
    "# It is defined by the kaggle/python docker image: https://github.com/kaggle/docker-python\n",
    "# For example, here's several helpful packages to load in \n",
    "\n",
    "import pandas as pd \n",
    "import numpy as np\n",
    "import matplotlib.pyplot as plt\n",
    "from datetime import datetime\n",
    "\n",
    "%matplotlib inline\n",
    "\n",
    "# Input data files are available in the \"../input/\" directory.\n",
    "# For example, running this (by clicking run or pressing Shift+Enter) will list the files in the input directory\n",
    "\n",
    "from subprocess import check_output\n",
    "print(check_output([\"ls\", \"../input\"]).decode(\"utf8\"))\n",
    "\n",
    "# Any results you write to the current directory are saved as output."
   ]
  },
  {
   "cell_type": "code",
   "execution_count": null,
   "metadata": {
    "_cell_guid": "d8422419-e952-4529-b310-75cde791613f",
    "_uuid": "5389b91086e0566ae83c024d6b27a6df5b8721da",
    "collapsed": true
   },
   "outputs": [],
   "source": [
    "df = pd.read_excel('../input/Online Retail.xlsx')"
   ]
  },
  {
   "cell_type": "code",
   "execution_count": null,
   "metadata": {
    "_cell_guid": "94fa5d2b-82a0-4122-a991-f6ab772dd5d1",
    "_uuid": "e8dda50b85ae0b979b7f21eded910557546af7a2",
    "collapsed": true
   },
   "outputs": [],
   "source": [
    "df.head()"
   ]
  },
  {
   "cell_type": "markdown",
   "metadata": {
    "_cell_guid": "ac4fef3d-ac2f-41a1-8c57-01fa60b3ac1a",
    "_uuid": "83a666fc5094b7f5fd7db0eb30d480daca1c772b"
   },
   "source": [
    "# Questions \n",
    "**I will list all questions which i need to answer through the dataset.**<br> \n",
    "**1- What is the total amount of purchases for each customer and who is the most and less customer has paid.**<br> \n",
    "**2- How many products have been bought by each customer and who is the customer who has bought the highest  and the least number of products.**<br> \n",
    "**3- What is the sales' average of each customer  and what is the average of products have been sold at each country**<br>\n",
    "**4- Which month has the highest total amount overall countries and at each country also.**<br>\n"
   ]
  },
  {
   "cell_type": "markdown",
   "metadata": {
    "_cell_guid": "4b727fa3-979c-44c1-80ea-2f48e5ba3778",
    "_uuid": "8de23c312e4c81160e9393859a9b47c2e5403ff3"
   },
   "source": [
    "# Data Wrangling\n"
   ]
  },
  {
   "cell_type": "code",
   "execution_count": null,
   "metadata": {
    "_cell_guid": "4e8ff612-fc7b-4501-b0c3-587f92d3de5d",
    "_uuid": "2ad4e659bd98825c57b6e5aeec06c64dc5a05454",
    "collapsed": true
   },
   "outputs": [],
   "source": [
    "df=df[['CustomerID','InvoiceNo','StockCode','Quantity','UnitPrice','Description','InvoiceDate','Country']]"
   ]
  },
  {
   "cell_type": "code",
   "execution_count": null,
   "metadata": {
    "_cell_guid": "81f90793-dee0-40ac-9fa8-d82a164a6ed0",
    "_uuid": "e22030e5ffc304f0c7d655d9da7b8fc51624023f",
    "collapsed": true
   },
   "outputs": [],
   "source": [
    "# Calculate the total sales of each product\n",
    "TotalAmount = df['Quantity'] * df['UnitPrice']\n",
    "df.insert(loc=5,column='TotalAmount',value=TotalAmount)"
   ]
  },
  {
   "cell_type": "code",
   "execution_count": null,
   "metadata": {
    "_cell_guid": "2d498b65-7b82-40fb-b35c-26b95ab9f9fc",
    "_uuid": "e42d711510b79b32d860151cf66a92d909d7d714",
    "collapsed": true
   },
   "outputs": [],
   "source": [
    "new_df = df[['CustomerID','InvoiceNo','StockCode','Quantity','TotalAmount','InvoiceDate','Country']]"
   ]
  },
  {
   "cell_type": "markdown",
   "metadata": {
    "_cell_guid": "a35b207d-5a8f-41e3-b830-f3a52a42b57c",
    "_uuid": "efdc6b83b74901b99e4f8c73fabb37509ebadeaf"
   },
   "source": [
    "## EDA"
   ]
  },
  {
   "cell_type": "markdown",
   "metadata": {
    "_cell_guid": "c577f7e6-f61a-45f7-91b4-92a1f023259d",
    "_uuid": "1439fb7553c3fff3a729238ac31447b77c34b236"
   },
   "source": [
    "**1- What is the total amount of purchases for each customer and who is the most and less customer has paid.**<br> \n",
    "\n"
   ]
  },
  {
   "cell_type": "code",
   "execution_count": null,
   "metadata": {
    "_cell_guid": "53fa27bf-9999-4c7d-b8ba-0bfe79d68201",
    "_uuid": "29242077aa051e975312fb8d83185ef14c081eae",
    "collapsed": true
   },
   "outputs": [],
   "source": [
    "# Show top 10 customers, max and min amounts paid   \n",
    "res_df = new_df.groupby(['CustomerID']).sum()\n",
    "res_df.sort_values('TotalAmount',ascending=False,inplace=True)\n",
    "final_df = res_df[(res_df['Quantity'] > 0) & (res_df['TotalAmount'] > 0)]\n",
    "\n",
    "print('customer Id {} who paid the maximum amount {}'.format(int(final_df['TotalAmount'].argmax()),final_df['TotalAmount'].max()))\n",
    "print('customer Id {} who paid the minimum amount {}'.format(int(final_df['TotalAmount'].argmin()),final_df['TotalAmount'].min()))\n",
    "\n",
    "final_df.head(10)"
   ]
  },
  {
   "cell_type": "code",
   "execution_count": null,
   "metadata": {
    "_cell_guid": "a4aabe3c-168c-458a-be41-421948fe248e",
    "_uuid": "7f436cd83d3b528def884db38dfd35d0b3b675e0",
    "collapsed": true
   },
   "outputs": [],
   "source": [
    "# total sales at each country, how many quantites sold at each country \n",
    "country_df = new_df.groupby(['Country']).sum()\n",
    "country_df.sort_values('TotalAmount',ascending=False,inplace=True)\n",
    "country_df.drop('CustomerID',axis=1,inplace=True)\n",
    "country_df.head()"
   ]
  },
  {
   "cell_type": "markdown",
   "metadata": {
    "_cell_guid": "b5dbe3c6-9cac-4c35-8750-a6542ad82400",
    "_uuid": "ff35821c2c6cf3ee218105d0bac4f962011b8dcd"
   },
   "source": [
    "**How many products have been bought by each customer and who is the customer who has bought the highest  and the least number of products.**<br>\n"
   ]
  },
  {
   "cell_type": "code",
   "execution_count": null,
   "metadata": {
    "_cell_guid": "4991e9c9-9add-4d36-bf32-b0545f66af93",
    "_uuid": "b480fc8cea95c7c22eb622938727271a9889f655",
    "collapsed": true
   },
   "outputs": [],
   "source": [
    "# show the min and max quantites has sold. \n",
    "print('The minimum number of products has been bought is {} by customer id {} '.format(final_df['Quantity'].min(),final_df['Quantity'].argmin()))\n",
    "print('The maximum number of products has been bought is {} by customer id {} '.format(final_df['Quantity'].max(),final_df['Quantity'].argmax()))\n",
    "new_df.groupby('Country').mean()"
   ]
  },
  {
   "cell_type": "code",
   "execution_count": null,
   "metadata": {
    "_cell_guid": "87e0a287-7766-4654-9ccc-6f9ad800fe68",
    "_uuid": "dfaaf4ab2e2a362c611baf7a83edb9d299f677f1",
    "collapsed": true
   },
   "outputs": [],
   "source": [
    "avg_quan = new_df[['Quantity','TotalAmount','Country','InvoiceNo','CustomerID']]"
   ]
  },
  {
   "cell_type": "code",
   "execution_count": null,
   "metadata": {
    "_cell_guid": "d175fb1b-fcda-4e28-86f3-caf58e82ff39",
    "_uuid": "09b3aa49ca797b2ad4fde35b36eb23da07654e5a",
    "collapsed": true
   },
   "outputs": [],
   "source": [
    "## Top 10 customers sales overall countries sorted by totalamount\n",
    "avg_sum = avg_quan.groupby(['Country','CustomerID']).sum() \n",
    "avg_sum.sort_values('TotalAmount',ascending=False).head(10)"
   ]
  },
  {
   "cell_type": "code",
   "execution_count": null,
   "metadata": {
    "_cell_guid": "b4424e70-56f7-4c0f-bdc1-7bd28c821972",
    "_uuid": "16f1762a1896087c81b1a409fccd58d8e3f21c85",
    "collapsed": true
   },
   "outputs": [],
   "source": [
    "## average of paid amount by each customer at each country ordered by number of invoices.\n",
    "avg_cus = df[['Quantity','TotalAmount','Country','InvoiceNo']].copy()\n",
    "\n",
    "x = avg_cus.groupby(['Country','InvoiceNo']).sum()\n",
    "\n",
    "x['Ones']=1\n",
    "y = x.groupby('Country').sum()\n",
    "y['AVG'] = y['TotalAmount'] / y['Ones']\n",
    "y.sort_values(['Ones','AVG'],ascending=False,inplace=True)\n",
    "y.head()"
   ]
  },
  {
   "cell_type": "code",
   "execution_count": null,
   "metadata": {
    "_cell_guid": "f20827da-2ac0-4c81-8310-c32f593f7af6",
    "_uuid": "5f64c24df75791d54b66ceea34f62b5c629ca61d",
    "collapsed": true
   },
   "outputs": [],
   "source": [
    "## Average of amount paid by the customers overall countries\n",
    "y['TotalAmount'].sum() / y['Quantity'].sum()"
   ]
  },
  {
   "cell_type": "code",
   "execution_count": null,
   "metadata": {
    "_cell_guid": "f1d099f0-0ca9-4c83-8b08-a6d22ba9c1df",
    "_uuid": "2d15693df57fb991e522c7d870f971411dda008c",
    "collapsed": true
   },
   "outputs": [],
   "source": [
    "y['AVG'].plot(kind='bar',figsize=(10,5),title='Average amount paid by the customer over all countries')\n",
    "plt.ylabel('AVG')\n",
    "plt.xlabel('Country')"
   ]
  },
  {
   "cell_type": "markdown",
   "metadata": {
    "_cell_guid": "b6730dd8-97fc-4582-bcb4-cdfd2bfed8f7",
    "_uuid": "78d6f5c0e52be03282f9d51f162b2377f146ea58"
   },
   "source": [
    "We noticed that the higest average paid through customer is in Netherlands and lowest amount paid in Saudi Arabia"
   ]
  },
  {
   "cell_type": "markdown",
   "metadata": {
    "_cell_guid": "1e234112-ac90-4fdf-a148-7f56223fe598",
    "_uuid": "b6be7687c641e6c7c2b4a3702de357df3b8fd1aa"
   },
   "source": [
    "**5- Which month has the highest total amount overall countries and at each country also..**<br>\n"
   ]
  },
  {
   "cell_type": "code",
   "execution_count": null,
   "metadata": {
    "_cell_guid": "7a1cdb73-75a7-44e2-b843-56853a5de3d9",
    "_uuid": "bf729359b4af03ccc6463c95c4bb1d308806d962",
    "collapsed": true
   },
   "outputs": [],
   "source": [
    "modifed_df = new_df[['Quantity','TotalAmount','InvoiceDate','Country']].copy()\n",
    "modifed_df['Month'] = modifed_df['InvoiceDate'].dt.month \n",
    "modifed_df['Year'] = modifed_df['InvoiceDate'].dt.year "
   ]
  },
  {
   "cell_type": "code",
   "execution_count": null,
   "metadata": {
    "_cell_guid": "6adddac0-4d70-40eb-a829-51052c4e311b",
    "_uuid": "8fc8bdc52b81b3fa995371fa8781f3e2cfa2a9d7",
    "collapsed": true
   },
   "outputs": [],
   "source": [
    "date_df = modifed_df.groupby(['Year','Month']).sum()\n",
    "total_values = date_df.sort_values('TotalAmount',ascending=False)\n",
    "total_values"
   ]
  },
  {
   "cell_type": "code",
   "execution_count": null,
   "metadata": {
    "_cell_guid": "264d07e0-3dec-4faa-82dc-05e69d3be534",
    "_uuid": "02ae20258f8c123b971efe73d56c4d4255eb89c3",
    "collapsed": true
   },
   "outputs": [],
   "source": [
    "total_values.plot(kind='bar',figsize=(10,5),title='Graph show total sales and quatities at each month')\n",
    "plt.ylabel('Quantity, total Amount')"
   ]
  },
  {
   "cell_type": "code",
   "execution_count": null,
   "metadata": {
    "_cell_guid": "24e99f09-cc9c-40a5-9326-2af518174fbd",
    "_uuid": "a13033aeba405292d833dd9a32fddd6742eb6f61",
    "collapsed": true
   },
   "outputs": [],
   "source": [
    "# I showed which month at each country has the higest total sales    \n",
    "country_df = modifed_df.groupby('Country').max()\n",
    "country_df.sort_values('TotalAmount',ascending=False,inplace=True)\n",
    "country_df"
   ]
  },
  {
   "cell_type": "markdown",
   "metadata": {
    "_cell_guid": "ca1c8576-026d-44b2-9d32-060a20b4609b",
    "_uuid": "6d64d031248fb54bcfc0d80db4eb063bc6cdbbc2"
   },
   "source": [
    "**We notice that december is the highest month of sales for many countries but november is the highest month overall months for all countries, Now we want how many minutes the customer needs to pay all of his purchases **"
   ]
  },
  {
   "cell_type": "markdown",
   "metadata": {
    "_cell_guid": "2514ed45-d17d-4e96-abc7-27acfb7ffda1",
    "_uuid": "6ffca9d7f37138902b1d7748e2188c84ef8486e3"
   },
   "source": [
    "** 6- Sales Average of each product at each country at each monthly. **"
   ]
  },
  {
   "cell_type": "code",
   "execution_count": null,
   "metadata": {
    "_cell_guid": "a915db82-3ade-4edf-b3fc-dfa6acf7ec0b",
    "_uuid": "b93078e899cab3a60a343600aada8a16c6c5eda3",
    "collapsed": true
   },
   "outputs": [],
   "source": [
    "## Total sales for each product\n",
    "\n",
    "df_1=df[['StockCode','Description','Quantity','TotalAmount','Country','InvoiceDate']]\n",
    "product_totalsales_df = df_1.groupby(['Country','StockCode','Description']).sum()\n",
    "product_totalsales_df = product_totalsales_df[ (product_totalsales_df['Quantity'] > 0) & (product_totalsales_df['TotalAmount'] >0) ]\n",
    "product_totalsales_df = product_totalsales_df[product_totalsales_df['TotalAmount'] >= 1000 ]\n",
    "\n",
    "product_totalsales_df.sort_values('TotalAmount',ascending=False)"
   ]
  },
  {
   "cell_type": "markdown",
   "metadata": {
    "_cell_guid": "2af61bf4-bc54-492a-bb6b-f895e1b700a0",
    "_uuid": "da7970f142caf0fd7c504a7712a8e06baf2ce50b"
   },
   "source": [
    "**Sales Average of each product overall, at each country and each monthly. **"
   ]
  },
  {
   "cell_type": "code",
   "execution_count": null,
   "metadata": {
    "_cell_guid": "558544a1-ec8e-4e72-94bc-bf2a0638e90c",
    "_uuid": "29378e6a469fae357476e55ec6d62dc087516fb5",
    "collapsed": true
   },
   "outputs": [],
   "source": [
    "## Sales Average of each product overall countries \n",
    "\n",
    "Avgsales_product = df_1.groupby(['StockCode','Description']).mean()\n",
    "\n",
    "Avgsales_product = Avgsales_product[ (Avgsales_product['Quantity'] > 0) & (Avgsales_product['TotalAmount'] >0) ]\n",
    "Avgsales_product = Avgsales_product[Avgsales_product['TotalAmount'] >= 100 ]\n",
    "\n",
    "Avgsales_product.sort_values('TotalAmount',ascending=False)\n"
   ]
  },
  {
   "cell_type": "code",
   "execution_count": null,
   "metadata": {
    "_cell_guid": "e2e58dd8-bc1d-4ac7-bfcc-caea02a5f4ee",
    "_uuid": "b2658780d0564d20fecd6afc2bd347d19b89db93",
    "collapsed": true
   },
   "outputs": [],
   "source": [
    "## total sales for each product at each country\n",
    "\n",
    "Total_sales_product = df_1.groupby(['Country','StockCode']).sum()\n",
    "\n",
    "Total_sales_product = Total_sales_product[ (Total_sales_product['Quantity'] > 0) & (Total_sales_product['TotalAmount'] >0) ]\n",
    "Total_sales_product = Total_sales_product[Total_sales_product['TotalAmount'] >= 100 ]\n",
    "\n",
    "Total_sales_product"
   ]
  },
  {
   "cell_type": "code",
   "execution_count": null,
   "metadata": {
    "_cell_guid": "ab2348a3-adb9-465a-aa05-1c9465b0139e",
    "_uuid": "c279da689faef0dc7bdbc8d52c39a1aae7b52ad3",
    "collapsed": true
   },
   "outputs": [],
   "source": [
    "df_1['Month'] = df_1['InvoiceDate'].dt.month.copy()"
   ]
  },
  {
   "cell_type": "code",
   "execution_count": null,
   "metadata": {
    "_cell_guid": "d413f7a4-856c-4a78-a455-7c324dffc217",
    "_uuid": "92e5e4b3e40753e1be98b5ed85dd6468deb10fdd",
    "collapsed": true
   },
   "outputs": [],
   "source": [
    "## total sales of product at each month at each country I made filter on total sales >= 100\n",
    "\n",
    "df_1 = df_1[ (df_1['Quantity'] > 0) & (df_1['TotalAmount'] >0) ]\n",
    "df_1 = df_1[df_1['TotalAmount'] >= 100 ]\n",
    "\n",
    "df_1.groupby(['Country','Month','StockCode','Description']).sum()"
   ]
  },
  {
   "cell_type": "markdown",
   "metadata": {
    "_cell_guid": "f236cb70-516b-4b31-a9f7-87f3a0ab31ce",
    "_uuid": "04740230bc420c37bc10f349efac805de1990ca0"
   },
   "source": []
  },
  {
   "cell_type": "code",
   "execution_count": null,
   "metadata": {
    "_cell_guid": "fbfcc7f7-db36-4c5e-8fd5-f8f731599d8d",
    "_uuid": "c60b7d4faaa6ae4ac2e3a13f3657f7996224a48c",
    "collapsed": true
   },
   "outputs": [],
   "source": []
  },
  {
   "cell_type": "code",
   "execution_count": null,
   "metadata": {
    "_cell_guid": "8d5f2928-498e-47e3-97ac-8552c408bcab",
    "_uuid": "556bda48ca9e3fcb5ec6fcc990aecbe9e45136cb",
    "collapsed": true
   },
   "outputs": [],
   "source": []
  }
 ],
 "metadata": {
  "kernelspec": {
   "display_name": "Python 3",
   "language": "python",
   "name": "python3"
  },
  "language_info": {
   "codemirror_mode": {
    "name": "ipython",
    "version": 3
   },
   "file_extension": ".py",
   "mimetype": "text/x-python",
   "name": "python",
   "nbconvert_exporter": "python",
   "pygments_lexer": "ipython3",
   "version": "3.6.3"
  }
 },
 "nbformat": 4,
 "nbformat_minor": 1
}
