{
 "cells": [
  {
   "cell_type": "code",
   "execution_count": 2,
   "metadata": {
    "collapsed": true
   },
   "outputs": [],
   "source": [
    "import pandas as pd\n",
    "from sklearn.datasets import make_blobs \n",
    "from sklearn.metrics import silhouette_score\n",
    "from sklearn.cluster import KMeans\n",
    "import matplotlib.pyplot as plt\n",
    "%matplotlib inline"
   ]
  },
  {
   "cell_type": "code",
   "execution_count": 3,
   "metadata": {},
   "outputs": [],
   "source": [
    "syn_data,cluster = make_blobs(n_samples=150, n_features=2,centers=4, random_state=12345) #n_sample = no.of rows, \n",
    "                                                                                          #n_features = no.of Columns,\n",
    "                                                                                          #center = no.of Cluster "
   ]
  },
  {
   "cell_type": "code",
   "execution_count": 21,
   "metadata": {},
   "outputs": [
    {
     "data": {
      "text/plain": [
       "array([[  3.27528484,   2.6573271 ],\n",
       "       [  8.89493542,  -3.14871684],\n",
       "       [  9.13355489,   5.07393195],\n",
       "       [  9.17487743,   2.71279733],\n",
       "       [ -8.57442101,  -7.07562665],\n",
       "       [  0.45968745,   0.1694001 ],\n",
       "       [  2.07569492,   2.8218767 ],\n",
       "       [  0.30224484,   3.34749685],\n",
       "       [ -6.45320137,  -4.99638028],\n",
       "       [  7.92276629,   3.03326189],\n",
       "       [ -6.62589684,  -7.58658467],\n",
       "       [  8.22796077,   3.3009142 ],\n",
       "       [ 10.33046964,   1.98061968],\n",
       "       [  9.44528689,  -4.62835776],\n",
       "       [  7.93985301,  -4.89079088],\n",
       "       [ 11.03752399,   1.65329579],\n",
       "       [  8.22004949,   3.86776464],\n",
       "       [  8.86731349,  -3.44357603],\n",
       "       [ -6.43655197,  -3.90509707],\n",
       "       [ 10.68436262,   1.98679999],\n",
       "       [  3.57916017,   1.23149365],\n",
       "       [  7.99601637,   2.17836192],\n",
       "       [  0.42794368,   3.66600245],\n",
       "       [  7.28529161,  -3.38613916],\n",
       "       [ -5.81365898,  -6.5622321 ],\n",
       "       [  8.59326213,  -2.32867911],\n",
       "       [  7.04321542,  -3.65030431],\n",
       "       [  7.05032633,  -4.64322482],\n",
       "       [  9.35035161,   2.83801794],\n",
       "       [  1.21877844,   3.34093587],\n",
       "       [  6.59068455,  -4.04433145],\n",
       "       [  6.2220902 ,  -5.5332497 ],\n",
       "       [  9.45490194,  -3.68252081],\n",
       "       [  9.36134442,  -2.42605417],\n",
       "       [ -5.64130302,  -5.27328207],\n",
       "       [ -5.73665403,  -5.75611786],\n",
       "       [  8.06011136,   3.63462008],\n",
       "       [  8.42315487,   3.4471252 ],\n",
       "       [ -6.59619297,  -6.04793662],\n",
       "       [ -7.07880027,  -5.19070859],\n",
       "       [  0.62020351,   1.18238938],\n",
       "       [ -6.62297405,  -5.41000294],\n",
       "       [  2.08186936,   1.04216333],\n",
       "       [ -6.59391674,  -5.92593586],\n",
       "       [ -5.39165501,  -7.47806503],\n",
       "       [  8.90363707,   3.92953148],\n",
       "       [  2.48198169,   1.34253061],\n",
       "       [ -6.68911129,  -4.8628819 ],\n",
       "       [  8.01523455,  -3.54836763],\n",
       "       [  2.56431057,   3.18091879],\n",
       "       [  8.64233121,  -3.00227331],\n",
       "       [  0.95879983,   1.62145816],\n",
       "       [  8.64363796,  -4.83020837],\n",
       "       [  9.03142348,   2.48189509],\n",
       "       [  9.67035286,   3.25253661],\n",
       "       [  9.09782441,   2.19235429],\n",
       "       [ -5.31088682,  -4.08391922],\n",
       "       [ -6.13464425,  -6.30051968],\n",
       "       [  0.9088122 ,   2.37926074],\n",
       "       [  1.24394322,   3.13828105],\n",
       "       [  8.85326023,   3.41103075],\n",
       "       [ -7.54576905,  -7.70963434],\n",
       "       [ -5.22623371,  -4.92786595],\n",
       "       [ -5.1016694 ,  -6.15649355],\n",
       "       [  9.71950398,   2.82731827],\n",
       "       [  9.91951647,  -4.59175047],\n",
       "       [  7.97004763,  -4.59365752],\n",
       "       [ 10.64001653,   4.41384167],\n",
       "       [  2.65110842,   2.16316927],\n",
       "       [ -5.89463768,  -7.47253427],\n",
       "       [ 11.84126578,  -4.69371643],\n",
       "       [  9.31596336,  -2.98248706],\n",
       "       [ -7.88728106,  -6.47133462],\n",
       "       [  0.43525888,   1.07206737],\n",
       "       [  9.29124776,   3.12879512],\n",
       "       [  2.19327565,   2.17778727],\n",
       "       [ -5.01490404,  -6.349348  ],\n",
       "       [ -5.96801666,  -5.20668426],\n",
       "       [  8.97030597,  -4.42637544],\n",
       "       [  7.32638736,  -3.55266178],\n",
       "       [ -6.29201361,  -5.11354127],\n",
       "       [  6.23290305,  -3.87203186],\n",
       "       [  8.56882854,  -5.97672279],\n",
       "       [  7.25971215,  -2.59786622],\n",
       "       [  7.73156446,  -3.11234362],\n",
       "       [  6.73235634,   3.22434878],\n",
       "       [ -6.73868817,  -5.92580147],\n",
       "       [  0.18586651,   1.08587409],\n",
       "       [  0.50764813,   2.51417619],\n",
       "       [  0.86072132,   3.15087394],\n",
       "       [  9.59951121,  -4.96871002],\n",
       "       [  2.81180029,   2.5204059 ],\n",
       "       [  9.5938653 ,  -4.1755763 ],\n",
       "       [  8.71408301,   0.64324751],\n",
       "       [  1.66386275,   1.33350859],\n",
       "       [  2.46192518,   2.00183115],\n",
       "       [ 10.23077972,   2.42110519],\n",
       "       [ -4.68688756,  -4.91978613],\n",
       "       [ 10.6135886 ,   0.79895335],\n",
       "       [  7.87877787,  -4.50364245],\n",
       "       [  8.05258041,  -3.1955039 ],\n",
       "       [  2.61807284,   1.6554035 ],\n",
       "       [  8.58046026,  -2.66767732],\n",
       "       [ -5.65246543,  -7.55777925],\n",
       "       [  8.92360751,  -2.32274669],\n",
       "       [  1.78965589,   1.35308934],\n",
       "       [  0.93826845,   1.79414706],\n",
       "       [  8.91204887,   2.71772127],\n",
       "       [ 10.1811639 ,   1.91235677],\n",
       "       [  9.71114239,   1.85213087],\n",
       "       [ -0.49028703,   3.97960191],\n",
       "       [  8.66219855,  -3.4258148 ],\n",
       "       [  1.97992874,   2.93376644],\n",
       "       [ -6.20351401,  -6.65732598],\n",
       "       [  0.60257958,   1.77828481],\n",
       "       [ -1.28990891,   1.75790826],\n",
       "       [  9.02307305,   3.54687976],\n",
       "       [  0.57753311,   3.35106093],\n",
       "       [ -6.91111145,  -4.32709433],\n",
       "       [ -6.13341309,  -3.73933299],\n",
       "       [  9.68988435,   2.91196713],\n",
       "       [ -5.86368362,  -5.35364002],\n",
       "       [ -6.1011369 ,  -6.10219554],\n",
       "       [ -6.80419641,  -5.94505828],\n",
       "       [  0.14064968,   1.44026313],\n",
       "       [  9.33498777,   2.16578562],\n",
       "       [  9.36681546,   2.76633777],\n",
       "       [  8.02986977,   3.52811673],\n",
       "       [  1.00439192,   2.12885108],\n",
       "       [  0.39289666,   0.08638952],\n",
       "       [ 10.26134717,  -4.11105864],\n",
       "       [ -6.85035859,  -5.45179256],\n",
       "       [  9.350685  ,  -4.33301324],\n",
       "       [ -6.35428791,  -6.83780063],\n",
       "       [  9.10279387,   2.56998194],\n",
       "       [  8.88995766,   3.51342235],\n",
       "       [  6.67798769,   4.20479213],\n",
       "       [  9.40902879,  -3.2388793 ],\n",
       "       [  9.94523869,  -2.78605957],\n",
       "       [  0.33359797,   0.49747802],\n",
       "       [  8.40318596,   2.08560571],\n",
       "       [  7.52880941,  -3.33960619],\n",
       "       [ -7.14561481,  -4.58822859],\n",
       "       [  0.38012246,   1.2761848 ],\n",
       "       [ -7.31914201,  -5.05820333],\n",
       "       [  9.93210821,   2.73188138],\n",
       "       [  7.86610836,  -3.44959336],\n",
       "       [ -6.21396654,  -6.51533955],\n",
       "       [ -7.34411074,  -6.31162135],\n",
       "       [  0.78704571,   1.53825251]])"
      ]
     },
     "execution_count": 21,
     "metadata": {},
     "output_type": "execute_result"
    }
   ],
   "source": [
    "syn_data"
   ]
  },
  {
   "cell_type": "code",
   "execution_count": 5,
   "metadata": {
    "collapsed": true
   },
   "outputs": [],
   "source": [
    "data= make_blobs(n_samples=10,n_features=2,centers=2) #Example"
   ]
  },
  {
   "cell_type": "code",
   "execution_count": 6,
   "metadata": {},
   "outputs": [
    {
     "data": {
      "text/plain": [
       "(array([[  8.26015292,   4.99814276],\n",
       "        [ -7.445693  ,   4.79820755],\n",
       "        [  8.36329687,   4.02301553],\n",
       "        [ 10.35759255,   4.92541954],\n",
       "        [  9.11185265,   4.04656376],\n",
       "        [  7.48219019,   4.68376815],\n",
       "        [ -9.51430362,   4.40015267],\n",
       "        [ -7.37287286,   4.81240542],\n",
       "        [-10.80492737,   4.8433095 ],\n",
       "        [ -8.43087395,   3.71607471]]), array([0, 1, 0, 0, 0, 0, 1, 1, 1, 1]))"
      ]
     },
     "execution_count": 6,
     "metadata": {},
     "output_type": "execute_result"
    }
   ],
   "source": [
    "data"
   ]
  },
  {
   "cell_type": "code",
   "execution_count": 7,
   "metadata": {
    "collapsed": true
   },
   "outputs": [],
   "source": [
    "import numpy as np\n",
    "x = np.array([[1,2],[3,4],[5,6]])\n",
    "y = np.array ([0,1,2])\n"
   ]
  },
  {
   "cell_type": "code",
   "execution_count": 8,
   "metadata": {},
   "outputs": [
    {
     "data": {
      "text/plain": [
       "array([1])"
      ]
     },
     "execution_count": 8,
     "metadata": {},
     "output_type": "execute_result"
    }
   ],
   "source": [
    "x[y==0,0]"
   ]
  },
  {
   "cell_type": "code",
   "execution_count": 9,
   "metadata": {},
   "outputs": [
    {
     "data": {
      "image/png": "[encoded data removed]",
      "text/plain": [
       "<matplotlib.figure.Figure at 0x2131ba040b8>"
      ]
     },
     "metadata": {},
     "output_type": "display_data"
    }
   ],
   "source": [
    "s = 4\n",
    "plt.scatter(syn_data[cluster==0,0],syn_data[cluster==0,1],c='blue', s=s)\n",
    "plt.scatter(syn_data[cluster==1,0],syn_data[cluster==1,1],c='red', s=s)\n",
    "plt.scatter(syn_data[cluster==2,0],syn_data[cluster==2,1],c='green', s=s)\n",
    "plt.scatter(syn_data[cluster==3,0],syn_data[cluster==3,1],c='cyan', s=s)\n",
    "plt.show()"
   ]
  },
  {
   "cell_type": "code",
   "execution_count": 10,
   "metadata": {
    "collapsed": true
   },
   "outputs": [],
   "source": [
    "km = KMeans(n_clusters=4, n_init=40)"
   ]
  },
  {
   "cell_type": "code",
   "execution_count": 11,
   "metadata": {
    "collapsed": true
   },
   "outputs": [],
   "source": [
    "fit = km.fit(syn_data)"
   ]
  },
  {
   "cell_type": "code",
   "execution_count": 12,
   "metadata": {},
   "outputs": [
    {
     "data": {
      "text/plain": [
       "KMeans(algorithm='auto', copy_x=True, init='k-means++', max_iter=300,\n",
       "    n_clusters=4, n_init=40, n_jobs=1, precompute_distances='auto',\n",
       "    random_state=None, tol=0.0001, verbose=0)"
      ]
     },
     "execution_count": 12,
     "metadata": {},
     "output_type": "execute_result"
    }
   ],
   "source": [
    "fit"
   ]
  },
  {
   "cell_type": "code",
   "execution_count": 13,
   "metadata": {},
   "outputs": [
    {
     "data": {
      "text/plain": [
       "array([[ 9.11660249,  2.8362013 ],\n",
       "       [-6.34086766, -5.81983492],\n",
       "       [ 1.23607375,  2.01924081],\n",
       "       [ 8.49574796, -3.79221814]])"
      ]
     },
     "execution_count": 13,
     "metadata": {},
     "output_type": "execute_result"
    }
   ],
   "source": [
    "fit.cluster_centers_"
   ]
  },
  {
   "cell_type": "code",
   "execution_count": 14,
   "metadata": {},
   "outputs": [
    {
     "data": {
      "text/plain": [
       "0.7680047793251501"
      ]
     },
     "execution_count": 14,
     "metadata": {},
     "output_type": "execute_result"
    }
   ],
   "source": [
    "silhouette_score(X=syn_data,labels=fit.labels_)"
   ]
  },
  {
   "cell_type": "code",
   "execution_count": 15,
   "metadata": {},
   "outputs": [
    {
     "data": {
      "image/png": "[encoded data removed]",
      "text/plain": [
       "<matplotlib.figure.Figure at 0x2131bc37e80>"
      ]
     },
     "metadata": {},
     "output_type": "display_data"
    }
   ],
   "source": [
    "s = 4\n",
    "plt.scatter(syn_data[fit.labels_==0,0],syn_data[fit.labels_==0,1],c='blue', s=s)\n",
    "plt.scatter(syn_data[fit.labels_==1,0],syn_data[fit.labels_==1,1],c='red', s=s)\n",
    "plt.scatter(syn_data[fit.labels_==2,0],syn_data[fit.labels_==2,1],c='green', s=s)\n",
    "plt.scatter(syn_data[fit.labels_==3,0],syn_data[fit.labels_==3,1],c='cyan', s=s)\n",
    "plt.show()"
   ]
  },
  {
   "cell_type": "code",
   "execution_count": 16,
   "metadata": {
    "collapsed": true
   },
   "outputs": [],
   "source": [
    "SS = []\n",
    "for k in range (1,10):\n",
    "    km = KMeans(n_clusters=k, n_init=100)\n",
    "    ss = km.fit(syn_data).inertia_\n",
    "    SS.append(ss)"
   ]
  },
  {
   "cell_type": "code",
   "execution_count": 17,
   "metadata": {},
   "outputs": [
    {
     "data": {
      "text/plain": [
       "[<matplotlib.lines.Line2D at 0x2131bd185f8>]"
      ]
     },
     "execution_count": 17,
     "metadata": {},
     "output_type": "execute_result"
    },
    {
     "data": {
      "image/png": "[encoded data removed]",
      "text/plain": [
       "<matplotlib.figure.Figure at 0x2131bcc3b38>"
      ]
     },
     "metadata": {},
     "output_type": "display_data"
    }
   ],
   "source": [
    "plt.plot(range(1,10),SS)"
   ]
  },
  {
   "cell_type": "code",
   "execution_count": null,
   "metadata": {
    "collapsed": true
   },
   "outputs": [],
   "source": []
  },
  {
   "cell_type": "code",
   "execution_count": null,
   "metadata": {
    "collapsed": true
   },
   "outputs": [],
   "source": []
  }
 ],
 "metadata": {
  "kernelspec": {
   "display_name": "Python 3",
   "language": "python",
   "name": "python3"
  },
  "language_info": {
   "codemirror_mode": {
    "name": "ipython",
    "version": 3
   },
   "file_extension": ".py",
   "mimetype": "text/x-python",
   "name": "python",
   "nbconvert_exporter": "python",
   "pygments_lexer": "ipython3",
   "version": "3.6.3"
  }
 },
 "nbformat": 4,
 "nbformat_minor": 2
}
