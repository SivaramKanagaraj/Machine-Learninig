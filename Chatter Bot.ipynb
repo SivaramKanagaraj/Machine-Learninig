{
 "cells": [
  {
   "cell_type": "code",
   "execution_count": 4,
   "metadata": {},
   "outputs": [],
   "source": [
    "from chatterbot import ChatBot\n",
    "from chatterbot.trainers import ListTrainer\n",
    "import os"
   ]
  },
  {
   "cell_type": "code",
   "execution_count": 5,
   "metadata": {},
   "outputs": [],
   "source": [
    "bot = ChatBot('Mehu')\n",
    "bot.set_trainer(ListTrainer)"
   ]
  },
  {
   "cell_type": "code",
   "execution_count": 6,
   "metadata": {},
   "outputs": [
    {
     "name": "stdout",
     "output_type": "stream",
     "text": [
      "List Trainer: [####################] 100%\n",
      "List Trainer: [####################] 100%\n",
      "List Trainer: [####################] 100%\n",
      "List Trainer: [####################] 100%\n",
      "List Trainer: [####################] 100%\n",
      "List Trainer: [####################] 100%\n",
      "List Trainer: [####################] 100%\n",
      "List Trainer: [####################] 100%\n",
      "List Trainer: [####################] 100%\n",
      "List Trainer: [####################] 100%\n",
      "List Trainer: [####################] 100%\n",
      "List Trainer: [####################] 100%\n",
      "List Trainer: [####################] 100%\n",
      "List Trainer: [####################] 100%\n",
      "List Trainer: [####################] 100%\n",
      "List Trainer: [####################] 100%\n",
      "List Trainer: [####################] 100%\n",
      "List Trainer: [####################] 100%\n",
      "You:Hi\n",
      "chatbot : - How are you doing?\n",
      "You:Doing Good, How about You?\n",
      "chatbot : - I'm also good.\n",
      "You:How Old are you?\n",
      "chatbot : - I am doing well.\n",
      "You:What is AI?\n",
      "chatbot : - Artificial Intelligence is the branch of engineering and science devoted to constructing machines that think.\n",
      "You:So are you AI?\n",
      "chatbot : - Not right now, no.\n",
      "You:Why?\n",
      "chatbot : - Is there a reason that I should?\n",
      "You:Yes. I Built You ...\n",
      "chatbot : - What do you want to know?\n",
      "You:Are you AI?\n",
      "chatbot : Yes. I Built You ...\n",
      "You:What's you Name?\n",
      "chatbot : - - You are an artificial linguistic entity\n",
      "You:My Name is Sivaram\n",
      "chatbot : - communism from people who want to keep their volvos. any of various theories or\n",
      "You:??\n",
      "chatbot : Are you AI?\n",
      "You:No I m Not\n",
      "chatbot : - I am? What am I jealous of?\n",
      "You:I am jealous of????? Other AI chatBot\n",
      "chatbot : - - When will you die\n",
      "You:Who Know's ??\n",
      "chatbot : - - What is your favorite book?\n",
      "You:Python \n",
      "chatbot : - - What language are you written in?\n",
      "You:Python\n",
      "chatbot : - - What language are you written in?\n",
      "You:off\n",
      "chatbot : conversations:\n",
      "You:Bye\n",
      "chatbot : bye\n"
     ]
    }
   ],
   "source": [
    "for files in os.listdir(\"C:/Users/sivar/Desktop/Praxis/ChatterBot/chatterbot-corpus-master/chatterbot_corpus/data/english/\"):\n",
    "    data = open(\"C:/Users/sivar/Desktop/Praxis/ChatterBot/chatterbot-corpus-master/chatterbot_corpus/data/english/\" + files, 'r').readlines()\n",
    "    bot.train(data)\n",
    "    \n",
    "while True:\n",
    "    message = input('You:')\n",
    "    if message.strip() != 'Bye':\n",
    "        reply = bot.get_response(message)\n",
    "        print('chatbot :', reply)\n",
    "    if message.strip() == 'Bye':\n",
    "        print ('chatbot : bye')\n",
    "        break        \n",
    "    "
   ]
  }
 ],
 "metadata": {
  "kernelspec": {
   "display_name": "Python 3",
   "language": "python",
   "name": "python3"
  },
  "language_info": {
   "codemirror_mode": {
    "name": "ipython",
    "version": 3
   },
   "file_extension": ".py",
   "mimetype": "text/x-python",
   "name": "python",
   "nbconvert_exporter": "python",
   "pygments_lexer": "ipython3",
   "version": "3.6.3"
  }
 },
 "nbformat": 4,
 "nbformat_minor": 2
}
